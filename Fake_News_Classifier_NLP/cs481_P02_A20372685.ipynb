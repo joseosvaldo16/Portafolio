{
 "cells": [
  {
   "cell_type": "code",
   "execution_count": 2,
   "metadata": {},
   "outputs": [],
   "source": [
    "import sys\n",
    "import pandas as pd\n",
    "import numpy as np\n",
    "import nltk\n",
    "import re\n",
    "from math import log\n",
    "from nltk.corpus import stopwords\n",
    "from nltk.stem import PorterStemmer\n",
    "from sklearn.model_selection import train_test_split\n",
    "from sklearn.feature_extraction.text import CountVectorizer\n",
    "from collections import defaultdict\n",
    "from nltk.stem import SnowballStemmer\n"
   ]
  },
  {
   "cell_type": "code",
   "execution_count": 3,
   "metadata": {},
   "outputs": [],
   "source": [
    "lowercase = None\n",
    "if len(sys.argv) == 2 and sys.argv[1].upper() == 'YES':\n",
    "    ignore_step = 'lowercase'\n",
    "else:\n",
    "    ignore_step = 'None'"
   ]
  },
  {
   "cell_type": "code",
   "execution_count": 4,
   "metadata": {},
   "outputs": [
    {
     "name": "stdout",
     "output_type": "stream",
     "text": [
      "Vera, Jose, A20372685 solution:\n",
      "Ignored pre-processing step: NONE\n"
     ]
    }
   ],
   "source": [
    "print(\"Vera, Jose, A20372685 solution:\")\n",
    "print(f\"Ignored pre-processing step: {ignore_step.upper()}\")"
   ]
  },
  {
   "cell_type": "code",
   "execution_count": 5,
   "metadata": {},
   "outputs": [],
   "source": [
    "fake_news = pd.read_csv('Fake.csv')\n",
    "real_news = pd.read_csv('True.csv')"
   ]
  },
  {
   "cell_type": "code",
   "execution_count": 6,
   "metadata": {},
   "outputs": [],
   "source": [
    "fake_news['class'] = 0  \n",
    "real_news['class'] = 1  \n",
    "\n",
    "data = pd.concat([fake_news, real_news], ignore_index=True)\n",
    "data = data.sample(frac=1).reset_index(drop=True)  ## Shuffle\n",
    "data['text'] = data['title'] + ' ' + data['text']  ## Combine title and text"
   ]
  },
  {
   "cell_type": "code",
   "execution_count": 7,
   "metadata": {},
   "outputs": [],
   "source": [
    "ps = PorterStemmer() #Stemmer that will be used for stemming\n",
    "stop_words = set(stopwords.words('english'))\n",
    "##If argument YES given, ingore_step will be 'lowercase', and lowercasing step will be skipped.\n",
    "if ignore_step != 'lowercase':\n",
    "    data['text'] = data['text'].apply(lambda x: x.lower())  # Lowercase\n",
    "##Remove Stopwords\n",
    "data['text'] = data['text'].apply(lambda x: ' '.join([word for word in x.split() if word not in stop_words]))  # Remove stop words\n",
    "##Perfrom Stemming\n",
    "data['text'] = [' '.join([ps.stem(word) for word in x.split()]) for x in data['text']]\n"
   ]
  },
  {
   "cell_type": "code",
   "execution_count": 8,
   "metadata": {},
   "outputs": [],
   "source": [
    "X_train, X_test, y_train, y_test = train_test_split(data['text'], data['class'], test_size=0.2, random_state=42)"
   ]
  },
  {
   "cell_type": "code",
   "execution_count": 9,
   "metadata": {},
   "outputs": [],
   "source": [
    "train_count_fake = list(y_train).count(0)\n",
    "train_count_real = list(y_train).count(1)\n",
    "\n",
    "test_count_fake = list(y_test).count(0)\n",
    "test_count_real = list(y_test).count(1)"
   ]
  },
  {
   "cell_type": "code",
   "execution_count": 10,
   "metadata": {},
   "outputs": [],
   "source": [
    "vectorizer = CountVectorizer(binary=True)\n",
    "\n",
    "vectorizer.fit(X_train)\n",
    "\n",
    "X_train_bow_matrix = vectorizer.transform(X_train).toarray()"
   ]
  },
  {
   "cell_type": "code",
   "execution_count": 11,
   "metadata": {},
   "outputs": [],
   "source": [
    "def my_preprocessor(text):\n",
    "    # Remove non-alphabetical characters\n",
    "    text = re.sub(r'[^a-zA-Z\\s]', ' ', text)\n",
    "    return text"
   ]
  },
  {
   "cell_type": "code",
   "execution_count": 12,
   "metadata": {},
   "outputs": [],
   "source": [
    "def train_naive_bayes(X_train):\n",
    "    ##Binary count vectorizer object\n",
    "    vectorizer = CountVectorizer(binary=True)\n",
    "\n",
    "    vectorizer.fit(X_train)\n",
    "\n",
    "    X_train_bow_matrix = vectorizer.transform(X_train).toarray()\n",
    "    ##Separate BOW into different matrices\n",
    "    \n",
    "    X_fake = X_train_bow_matrix[y_train == 0, :]\n",
    "    X_real = X_train_bow_matrix[y_train == 1, :]\n",
    "\n",
    "    log_prior = {}\n",
    "\n",
    "    # Calculate P(c) term\n",
    "    numb_doc = len(X_train_bow_matrix)\n",
    "    numb_classes = 2\n",
    "    class_counts = np.bincount(y_train)\n",
    "    for label in range(numb_classes):\n",
    "        log_prior[label] = np.log(class_counts[label]/numb_doc) \n",
    "\n",
    "    # Create Vocabulary of D\n",
    "    V = vectorizer.get_feature_names_out()\n",
    "    ##Get necessary counts to calcualte probability\n",
    "    real_word_counts = np.sum(X_real, axis=0)\n",
    "    fake_word_counts = np.sum(X_fake, axis=0)\n",
    "    real_words_total = np.sum(real_word_counts)\n",
    "    fake_words_total = np.sum(fake_word_counts)\n",
    "    real_doc_count = len(X_real)\n",
    "    fake_doc_count = len(X_fake)\n",
    "\n",
    "    #Calculate probabilites using lapace smoothing of 1\n",
    "    fake_probs = {}\n",
    "    real_probs = {}\n",
    "    for word in range(len(V)):\n",
    "        fake_count = fake_word_counts[word]\n",
    "        real_count = real_word_counts[word]\n",
    "        fake_probs[V[word]] = np.log((fake_count + 1) / (fake_words_total + len(V)))\n",
    "        real_probs[V[word]] = np.log((real_count + 1) / (real_words_total + len(V)))\n",
    "    # Create log_likelihood dictionary\n",
    "    log_likelihood = {}\n",
    "    log_likelihood[0] = fake_probs\n",
    "    log_likelihood[1] = real_probs\n",
    "\n",
    "    V_list = V.tolist()\n",
    "    \n",
    "    return log_prior,log_likelihood,V_list,\n",
    "\n",
    "\n"
   ]
  },
  {
   "cell_type": "code",
   "execution_count": 13,
   "metadata": {},
   "outputs": [],
   "source": [
    "def test_naive_bayes(X_test, log_prior, log_likelihood, C, V):\n",
    "    \n",
    "    vectorizer = CountVectorizer(vocabulary=V, binary=True)\n",
    "    testdoc = vectorizer.transform(X_test).toarray()\n",
    "\n",
    "    # Create a matrix of log likelihoods for all words in the vocabulary for each class\n",
    "    log_likelihood_matrix = np.array([list(log_likelihood[c].values()) for c in C]).T\n",
    "\n",
    "    # Calculate the sum of log likelihoods for each document and class using broadcasting\n",
    "    sum_c = (testdoc @ log_likelihood_matrix) + list(log_prior.values())\n",
    "\n",
    "    # Choose the class with the highest sum\n",
    "    best_c = np.argmax(sum_c, axis=1)\n",
    "\n",
    "    return best_c, sum_c\n"
   ]
  },
  {
   "cell_type": "code",
   "execution_count": 14,
   "metadata": {},
   "outputs": [
    {
     "name": "stdout",
     "output_type": "stream",
     "text": [
      "Training classifier…\n"
     ]
    }
   ],
   "source": [
    "print('Training classifier…')"
   ]
  },
  {
   "cell_type": "code",
   "execution_count": 15,
   "metadata": {},
   "outputs": [
    {
     "ename": "",
     "evalue": "",
     "output_type": "error",
     "traceback": [
      "\u001b[1;31mThe Kernel crashed while executing code in the the current cell or a previous cell. Please review the code in the cell(s) to identify a possible cause of the failure. Click <a href='https://aka.ms/vscodeJupyterKernelCrash'>here</a> for more info. View Jupyter <a href='command:jupyter.viewOutput'>log</a> for further details."
     ]
    },
    {
     "ename": "",
     "evalue": "",
     "output_type": "error",
     "traceback": [
      "\u001b[1;31mCanceled future for execute_request message before replies were done"
     ]
    }
   ],
   "source": [
    "log_prior, log_likelihood, V = train_naive_bayes(X_train)"
   ]
  },
  {
   "cell_type": "code",
   "execution_count": null,
   "metadata": {},
   "outputs": [
    {
     "name": "stdout",
     "output_type": "stream",
     "text": [
      "Testing classifier…\n"
     ]
    }
   ],
   "source": [
    "print('Testing classifier…')\n",
    "y_pred, sum_c = test_naive_bayes(X_test, log_prior, log_likelihood, [0,1], V)"
   ]
  },
  {
   "cell_type": "code",
   "execution_count": null,
   "metadata": {},
   "outputs": [
    {
     "name": "stdout",
     "output_type": "stream",
     "text": [
      "Test results / metrics:\n",
      "\n"
     ]
    }
   ],
   "source": [
    "print(\"Test results / metrics:\\n\")"
   ]
  },
  {
   "cell_type": "code",
   "execution_count": null,
   "metadata": {},
   "outputs": [
    {
     "name": "stdout",
     "output_type": "stream",
     "text": [
      "Number of true positives: 4055\n",
      "Number of true negatives: 4630\n",
      "Number of false positives: 167\n",
      "Number of false negatives: 128\n",
      "Sensitivity (recall): 0.9693999521874253\n",
      "Specificity: 0.9651865749426725\n",
      "Precision: 0.9604452865940313\n",
      "Negative predictive value: 0.973097940311055\n",
      "Accuracy: 0.9671492204899778\n",
      "F-score: 0.9649018441403926\n"
     ]
    }
   ],
   "source": [
    "from sklearn.metrics import confusion_matrix, accuracy_score, precision_score, recall_score, f1_score\n",
    "\n",
    "conf_mat = confusion_matrix(y_test, y_pred)\n",
    "\n",
    "tn, fp, fn, tp = conf_mat.ravel()\n",
    "\n",
    "sensitivity = recall_score(y_test, y_pred)\n",
    "specificity = tn / (tn + fp)\n",
    "precision = precision_score(y_test, y_pred)\n",
    "npv = tn / (tn + fn)\n",
    "accuracy = accuracy_score(y_test, y_pred)\n",
    "f1 = f1_score(y_test, y_pred)\n",
    "\n",
    "\n",
    "print(\"Number of true positives:\", tp)\n",
    "print(\"Number of true negatives:\", tn)\n",
    "print(\"Number of false positives:\", fp)\n",
    "print(\"Number of false negatives:\", fn)\n",
    "print(\"Sensitivity (recall):\", sensitivity)\n",
    "print(\"Specificity:\", specificity)\n",
    "print(\"Precision:\", precision)\n",
    "print(\"Negative predictive value:\", npv)\n",
    "print(\"Accuracy:\", accuracy)\n",
    "print(\"F-score:\", f1)\n"
   ]
  },
  {
   "cell_type": "code",
   "execution_count": null,
   "metadata": {},
   "outputs": [
    {
     "name": "stdout",
     "output_type": "stream",
     "text": [
      "Sentence 'The president has declared a state of emergency' was classified as 'Fake'.\n",
      "P(Fake | S) = -53.1760\n",
      "P(Real | S) = -55.8163\n"
     ]
    }
   ],
   "source": [
    "while True:\n",
    "    sentence = input(\"Enter your sentence: \")\n",
    "    if ignore_step != 'lowercase':\n",
    "        sentence = sentence.lower()\n",
    "    #Remove stop words and rejoin the remaining words back into a string\n",
    "    filtered_text = ' '.join([word for word in sentence.split() if word.lower() not in stop_words]) \n",
    "    ##Perfrom Stemming\n",
    "    text = [' '.join([ps.stem(word) for word in filtered_text.split()])]\n",
    "\n",
    "    class_label, class_probabilities = test_naive_bayes(text,log_prior, log_likelihood, [0,1], V)\n",
    "    if class_label[0] == 0:\n",
    "        other_label = 1\n",
    "        class_name = 'Fake'\n",
    "        other_name = 'Real'\n",
    "    else:\n",
    "        other_label = 0\n",
    "        class_name = 'Real'\n",
    "        other_name = 'Fake'\n",
    "\n",
    "    print(f\"Sentence '{sentence}' was classified as '{class_name}'.\")\n",
    "    print(f\"P({class_name} | S) = {class_probabilities[0][class_label[0]]:.4f}\")\n",
    "    print(f\"P({other_name} | S) = {class_probabilities[0][other_label]:.4f}\")\n",
    "    \n",
    "    answer = input(\"Do you want to enter another sentence [Y/N]? \")\n",
    "    if answer.lower() != 'y':\n",
    "        break\n"
   ]
  },
  {
   "cell_type": "code",
   "execution_count": null,
   "metadata": {},
   "outputs": [],
   "source": [
    "import matplotlib.pyplot as plt\n"
   ]
  },
  {
   "cell_type": "code",
   "execution_count": null,
   "metadata": {},
   "outputs": [
    {
     "data": {
      "text/plain": [
       "0.9718829223323346"
      ]
     },
     "execution_count": 14,
     "metadata": {},
     "output_type": "execute_result"
    }
   ],
   "source": []
  },
  {
   "cell_type": "code",
   "execution_count": null,
   "metadata": {},
   "outputs": [
    {
     "data": {
      "image/png": "[encoded data removed]",
      "text/plain": [
       "<Figure size 640x480 with 1 Axes>"
      ]
     },
     "metadata": {},
     "output_type": "display_data"
    }
   ],
   "source": [
    "plt.figure()\n",
    "lw = 2\n",
    "fpr = 165/(165+4476)\n",
    "tpr = 4217/(4217+122)\n",
    "\n",
    "fpr2 = 0.029\n",
    "tpr2 = 0.96\n",
    "\n",
    "plt.plot ([0, fpr,1],[0,tpr, 1],color='darkorange',lw =lw, label='ROC curve')\n",
    "plt.plot ([0, fpr2,1],[0,tpr2, 1],color='green',lw =lw, label='ROC curve lower')\n",
    "\n",
    "plt.plot ([0, 1], [0, 1], color='navy', lw=lw,linestyle='--')\n",
    "plt.xlim([0.0, 1.0])\n",
    "plt.ylim([0.0, 1.05])\n",
    "plt.xlabel ('False Positive Rate')\n",
    "plt.ylabel ('True Positive Rate')\n",
    "plt.title ('ROC (Receiver operating characteristic) curve')\n",
    "plt.legend (loc=\"lower right\")\n",
    "plt.show ()"
   ]
  }
 ],
 "metadata": {
  "kernelspec": {
   "display_name": "Python 3",
   "language": "python",
   "name": "python3"
  },
  "language_info": {
   "codemirror_mode": {
    "name": "ipython",
    "version": 3
   },
   "file_extension": ".py",
   "mimetype": "text/x-python",
   "name": "python",
   "nbconvert_exporter": "python",
   "pygments_lexer": "ipython3",
   "version": "3.10.5"
  },
  "orig_nbformat": 4,
  "vscode": {
   "interpreter": {
    "hash": "aee8b7b246df8f9039afb4144a1f6fd8d2ca17a180786b69acc140d282b71a49"
   }
  }
 },
 "nbformat": 4,
 "nbformat_minor": 2
}
