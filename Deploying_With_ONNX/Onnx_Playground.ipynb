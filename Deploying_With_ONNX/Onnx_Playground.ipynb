{
 "cells": [
  {
   "cell_type": "code",
   "execution_count": 2,
   "metadata": {},
   "outputs": [],
   "source": [
    "import torch\n",
    "import numpy as np\n",
    "from pytorch_tabnet.tab_model import TabNetClassifier\n",
    "import pandas as pd\n",
    "import kagglehub\n",
    "from kagglehub import KaggleDatasetAdapter\n",
    "from sklearn.model_selection import train_test_split,cross_validate\n",
    "from sklearn.metrics import roc_auc_score"
   ]
  },
  {
   "cell_type": "code",
   "execution_count": 3,
   "metadata": {},
   "outputs": [],
   "source": [
    "df = kagglehub.load_dataset(adapter=KaggleDatasetAdapter.PANDAS,handle=\"fedesoriano/stroke-prediction-dataset\",path=\"healthcare-dataset-stroke-data.csv\")"
   ]
  },
  {
   "cell_type": "code",
   "execution_count": 4,
   "metadata": {},
   "outputs": [
    {
     "data": {
      "text/html": [
       "<div>\n",
       "<style scoped>\n",
       "    .dataframe tbody tr th:only-of-type {\n",
       "        vertical-align: middle;\n",
       "    }\n",
       "\n",
       "    .dataframe tbody tr th {\n",
       "        vertical-align: top;\n",
       "    }\n",
       "\n",
       "    .dataframe thead th {\n",
       "        text-align: right;\n",
       "    }\n",
       "</style>\n",
       "<table border=\"1\" class=\"dataframe\">\n",
       "  <thead>\n",
       "    <tr style=\"text-align: right;\">\n",
       "      <th></th>\n",
       "      <th>id</th>\n",
       "      <th>gender</th>\n",
       "      <th>age</th>\n",
       "      <th>hypertension</th>\n",
       "      <th>heart_disease</th>\n",
       "      <th>ever_married</th>\n",
       "      <th>work_type</th>\n",
       "      <th>Residence_type</th>\n",
       "      <th>avg_glucose_level</th>\n",
       "      <th>bmi</th>\n",
       "      <th>smoking_status</th>\n",
       "      <th>stroke</th>\n",
       "    </tr>\n",
       "  </thead>\n",
       "  <tbody>\n",
       "    <tr>\n",
       "      <th>0</th>\n",
       "      <td>9046</td>\n",
       "      <td>Male</td>\n",
       "      <td>67.0</td>\n",
       "      <td>0</td>\n",
       "      <td>1</td>\n",
       "      <td>Yes</td>\n",
       "      <td>Private</td>\n",
       "      <td>Urban</td>\n",
       "      <td>228.69</td>\n",
       "      <td>36.6</td>\n",
       "      <td>formerly smoked</td>\n",
       "      <td>1</td>\n",
       "    </tr>\n",
       "    <tr>\n",
       "      <th>1</th>\n",
       "      <td>51676</td>\n",
       "      <td>Female</td>\n",
       "      <td>61.0</td>\n",
       "      <td>0</td>\n",
       "      <td>0</td>\n",
       "      <td>Yes</td>\n",
       "      <td>Self-employed</td>\n",
       "      <td>Rural</td>\n",
       "      <td>202.21</td>\n",
       "      <td>NaN</td>\n",
       "      <td>never smoked</td>\n",
       "      <td>1</td>\n",
       "    </tr>\n",
       "    <tr>\n",
       "      <th>2</th>\n",
       "      <td>31112</td>\n",
       "      <td>Male</td>\n",
       "      <td>80.0</td>\n",
       "      <td>0</td>\n",
       "      <td>1</td>\n",
       "      <td>Yes</td>\n",
       "      <td>Private</td>\n",
       "      <td>Rural</td>\n",
       "      <td>105.92</td>\n",
       "      <td>32.5</td>\n",
       "      <td>never smoked</td>\n",
       "      <td>1</td>\n",
       "    </tr>\n",
       "    <tr>\n",
       "      <th>3</th>\n",
       "      <td>60182</td>\n",
       "      <td>Female</td>\n",
       "      <td>49.0</td>\n",
       "      <td>0</td>\n",
       "      <td>0</td>\n",
       "      <td>Yes</td>\n",
       "      <td>Private</td>\n",
       "      <td>Urban</td>\n",
       "      <td>171.23</td>\n",
       "      <td>34.4</td>\n",
       "      <td>smokes</td>\n",
       "      <td>1</td>\n",
       "    </tr>\n",
       "    <tr>\n",
       "      <th>4</th>\n",
       "      <td>1665</td>\n",
       "      <td>Female</td>\n",
       "      <td>79.0</td>\n",
       "      <td>1</td>\n",
       "      <td>0</td>\n",
       "      <td>Yes</td>\n",
       "      <td>Self-employed</td>\n",
       "      <td>Rural</td>\n",
       "      <td>174.12</td>\n",
       "      <td>24.0</td>\n",
       "      <td>never smoked</td>\n",
       "      <td>1</td>\n",
       "    </tr>\n",
       "  </tbody>\n",
       "</table>\n",
       "</div>"
      ],
      "text/plain": [
       "      id  gender   age  hypertension  heart_disease ever_married  \\\n",
       "0   9046    Male  67.0             0              1          Yes   \n",
       "1  51676  Female  61.0             0              0          Yes   \n",
       "2  31112    Male  80.0             0              1          Yes   \n",
       "3  60182  Female  49.0             0              0          Yes   \n",
       "4   1665  Female  79.0             1              0          Yes   \n",
       "\n",
       "       work_type Residence_type  avg_glucose_level   bmi   smoking_status  \\\n",
       "0        Private          Urban             228.69  36.6  formerly smoked   \n",
       "1  Self-employed          Rural             202.21   NaN     never smoked   \n",
       "2        Private          Rural             105.92  32.5     never smoked   \n",
       "3        Private          Urban             171.23  34.4           smokes   \n",
       "4  Self-employed          Rural             174.12  24.0     never smoked   \n",
       "\n",
       "   stroke  \n",
       "0       1  \n",
       "1       1  \n",
       "2       1  \n",
       "3       1  \n",
       "4       1  "
      ]
     },
     "execution_count": 4,
     "metadata": {},
     "output_type": "execute_result"
    }
   ],
   "source": [
    "df.head()"
   ]
  },
  {
   "cell_type": "code",
   "execution_count": 5,
   "metadata": {},
   "outputs": [
    {
     "data": {
      "text/plain": [
       "id                     int64\n",
       "gender                object\n",
       "age                  float64\n",
       "hypertension           int64\n",
       "heart_disease          int64\n",
       "ever_married          object\n",
       "work_type             object\n",
       "Residence_type        object\n",
       "avg_glucose_level    float64\n",
       "bmi                  float64\n",
       "smoking_status        object\n",
       "stroke                 int64\n",
       "dtype: object"
      ]
     },
     "metadata": {},
     "output_type": "display_data"
    },
    {
     "name": "stdout",
     "output_type": "stream",
     "text": [
      "Shape: (5110, 12)\n"
     ]
    }
   ],
   "source": [
    "display(df.dtypes)\n",
    "print(f\"Shape: {df.shape}\")\n"
   ]
  },
  {
   "cell_type": "code",
   "execution_count": 6,
   "metadata": {},
   "outputs": [
    {
     "data": {
      "text/plain": [
       "array(['formerly smoked', 'never smoked', 'smokes', 'Unknown'],\n",
       "      dtype=object)"
      ]
     },
     "execution_count": 6,
     "metadata": {},
     "output_type": "execute_result"
    }
   ],
   "source": [
    "df.smoking_status.unique()"
   ]
  },
  {
   "cell_type": "code",
   "execution_count": 7,
   "metadata": {},
   "outputs": [],
   "source": [
    "#Binary Categorical Features to encode\n",
    "categorical_binary = ['ever_married', 'Residence_type']\n",
    "categorical_multi = ['work_type', 'gender','smoking_status']\n",
    "numerical_double = ['age', 'avg_glucose_level', 'bmi',]\n",
    "\n",
    "#create numerical encodings for binary categorical features\n",
    "df['ever_married'] = df['ever_married'].apply(lambda x: 1 if x == 'Yes' else 0)\n",
    "df['Residence_type'] = df['Residence_type'].apply(lambda x: 1 if x == 'Urban' else 0)\n",
    "\n",
    "#one hot encode multi categorical features\n",
    "df = pd.concat([df, pd.get_dummies(data= df[categorical_multi],dtype=int)], axis=1)"
   ]
  },
  {
   "cell_type": "code",
   "execution_count": 8,
   "metadata": {},
   "outputs": [],
   "source": [
    "df = df.drop(columns=categorical_multi)"
   ]
  },
  {
   "cell_type": "code",
   "execution_count": 9,
   "metadata": {},
   "outputs": [
    {
     "data": {
      "text/plain": [
       "id                                  0\n",
       "age                                 0\n",
       "hypertension                        0\n",
       "heart_disease                       0\n",
       "ever_married                        0\n",
       "Residence_type                      0\n",
       "avg_glucose_level                   0\n",
       "bmi                               201\n",
       "stroke                              0\n",
       "work_type_Govt_job                  0\n",
       "work_type_Never_worked              0\n",
       "work_type_Private                   0\n",
       "work_type_Self-employed             0\n",
       "work_type_children                  0\n",
       "gender_Female                       0\n",
       "gender_Male                         0\n",
       "gender_Other                        0\n",
       "smoking_status_Unknown              0\n",
       "smoking_status_formerly smoked      0\n",
       "smoking_status_never smoked         0\n",
       "smoking_status_smokes               0\n",
       "dtype: int64"
      ]
     },
     "execution_count": 9,
     "metadata": {},
     "output_type": "execute_result"
    }
   ],
   "source": [
    "#check for missing values\n",
    "df.isnull().sum()"
   ]
  },
  {
   "cell_type": "code",
   "execution_count": 10,
   "metadata": {},
   "outputs": [],
   "source": [
    "#remove rows whith no bmi data\n",
    "df = df.dropna()\n",
    "X = df.drop(columns='stroke')\n",
    "y = df['stroke']\n",
    "\n",
    "#split data into train, test, and validation sets stratified by stroke\n",
    "X_train, X_test, y_train, y_test = train_test_split(X, y, test_size=0.2, random_state=42, stratify=y)\n",
    "X_train, X_val, y_train, y_val = train_test_split(X_train, y_train, test_size=0.2, random_state=42, stratify=y_train)\n"
   ]
  },
  {
   "cell_type": "code",
   "execution_count": 11,
   "metadata": {},
   "outputs": [
    {
     "data": {
      "text/plain": [
       "(3141, 20)"
      ]
     },
     "execution_count": 11,
     "metadata": {},
     "output_type": "execute_result"
    }
   ],
   "source": [
    "#split data into train, test, and validation sets stratified by stroke\n",
    "X_train, X_test, y_train, y_test = train_test_split(X, y, test_size=0.2, random_state=42, stratify=y)\n",
    "X_train, X_val, y_train, y_val = train_test_split(X_train, y_train, test_size=0.2, random_state=42, stratify=y_train)\n",
    "X_train.shape"
   ]
  },
  {
   "cell_type": "code",
   "execution_count": 12,
   "metadata": {},
   "outputs": [
    {
     "name": "stderr",
     "output_type": "stream",
     "text": [
      "/opt/miniconda3/envs/mlenv/lib/python3.11/site-packages/pytorch_tabnet/abstract_model.py:82: UserWarning: Device used : cpu\n",
      "  warnings.warn(f\"Device used : {self.device}\")\n"
     ]
    },
    {
     "name": "stdout",
     "output_type": "stream",
     "text": [
      "epoch 0  | loss: 0.716   | val_0_logloss: 0.42658 |  0:01:16s\n",
      "epoch 1  | loss: 0.57266 | val_0_logloss: 0.37631 |  0:02:32s\n",
      "epoch 2  | loss: 0.47032 | val_0_logloss: 0.35578 |  0:03:48s\n",
      "epoch 3  | loss: 0.40502 | val_0_logloss: 0.3336  |  0:05:05s\n",
      "epoch 4  | loss: 0.34663 | val_0_logloss: 0.30335 |  0:06:20s\n",
      "epoch 5  | loss: 0.31236 | val_0_logloss: 0.29246 |  0:07:37s\n",
      "epoch 6  | loss: 0.28363 | val_0_logloss: 0.28225 |  0:08:53s\n",
      "epoch 7  | loss: 0.26622 | val_0_logloss: 0.27634 |  0:10:09s\n",
      "epoch 8  | loss: 0.24951 | val_0_logloss: 0.27397 |  0:11:25s\n",
      "epoch 9  | loss: 0.23705 | val_0_logloss: 0.25783 |  0:12:41s\n",
      "epoch 10 | loss: 0.22569 | val_0_logloss: 0.25077 |  0:13:56s\n",
      "epoch 11 | loss: 0.21983 | val_0_logloss: 0.23779 |  0:15:12s\n",
      "epoch 12 | loss: 0.21503 | val_0_logloss: 0.22773 |  0:16:28s\n",
      "epoch 13 | loss: 0.20335 | val_0_logloss: 0.22204 |  0:17:43s\n",
      "epoch 14 | loss: 0.20604 | val_0_logloss: 0.21632 |  0:18:59s\n",
      "Stop training because you reached max_epochs = 15 with best_epoch = 14 and best_val_0_logloss = 0.21632\n"
     ]
    },
    {
     "name": "stderr",
     "output_type": "stream",
     "text": [
      "/opt/miniconda3/envs/mlenv/lib/python3.11/site-packages/pytorch_tabnet/callbacks.py:172: UserWarning: Best weights from best epoch are automatically used!\n",
      "  warnings.warn(wrn_msg)\n"
     ]
    }
   ],
   "source": [
    "tabnet_model = TabNetClassifier(optimizer_fn=torch.optim.Adamax, optimizer_params=dict(lr=1e-3),n_d=16,n_a=16,n_steps=3) \n",
    "\n",
    "tabnet_model.fit(X_train=X_train.values, y_train=y_train.values,\n",
    "                  eval_set=[(X_val.values, y_val.values)],\n",
    "                  eval_metric=['logloss'], num_workers=8, max_epochs=15,virtual_batch_size=64,\n",
    "                  batch_size=256)"
   ]
  },
  {
   "cell_type": "code",
   "execution_count": 13,
   "metadata": {},
   "outputs": [
    {
     "data": {
      "text/plain": [
       "TabNet(\n",
       "  (embedder): EmbeddingGenerator()\n",
       "  (tabnet): TabNetNoEmbeddings(\n",
       "    (initial_bn): BatchNorm1d(20, eps=1e-05, momentum=0.01, affine=True, track_running_stats=True)\n",
       "    (encoder): TabNetEncoder(\n",
       "      (initial_bn): BatchNorm1d(20, eps=1e-05, momentum=0.01, affine=True, track_running_stats=True)\n",
       "      (initial_splitter): FeatTransformer(\n",
       "        (shared): GLU_Block(\n",
       "          (shared_layers): ModuleList(\n",
       "            (0): Linear(in_features=20, out_features=64, bias=False)\n",
       "            (1): Linear(in_features=32, out_features=64, bias=False)\n",
       "          )\n",
       "          (glu_layers): ModuleList(\n",
       "            (0): GLU_Layer(\n",
       "              (fc): Linear(in_features=20, out_features=64, bias=False)\n",
       "              (bn): GBN(\n",
       "                (bn): BatchNorm1d(64, eps=1e-05, momentum=0.02, affine=True, track_running_stats=True)\n",
       "              )\n",
       "            )\n",
       "            (1): GLU_Layer(\n",
       "              (fc): Linear(in_features=32, out_features=64, bias=False)\n",
       "              (bn): GBN(\n",
       "                (bn): BatchNorm1d(64, eps=1e-05, momentum=0.02, affine=True, track_running_stats=True)\n",
       "              )\n",
       "            )\n",
       "          )\n",
       "        )\n",
       "        (specifics): GLU_Block(\n",
       "          (glu_layers): ModuleList(\n",
       "            (0-1): 2 x GLU_Layer(\n",
       "              (fc): Linear(in_features=32, out_features=64, bias=False)\n",
       "              (bn): GBN(\n",
       "                (bn): BatchNorm1d(64, eps=1e-05, momentum=0.02, affine=True, track_running_stats=True)\n",
       "              )\n",
       "            )\n",
       "          )\n",
       "        )\n",
       "      )\n",
       "      (feat_transformers): ModuleList(\n",
       "        (0-2): 3 x FeatTransformer(\n",
       "          (shared): GLU_Block(\n",
       "            (shared_layers): ModuleList(\n",
       "              (0): Linear(in_features=20, out_features=64, bias=False)\n",
       "              (1): Linear(in_features=32, out_features=64, bias=False)\n",
       "            )\n",
       "            (glu_layers): ModuleList(\n",
       "              (0): GLU_Layer(\n",
       "                (fc): Linear(in_features=20, out_features=64, bias=False)\n",
       "                (bn): GBN(\n",
       "                  (bn): BatchNorm1d(64, eps=1e-05, momentum=0.02, affine=True, track_running_stats=True)\n",
       "                )\n",
       "              )\n",
       "              (1): GLU_Layer(\n",
       "                (fc): Linear(in_features=32, out_features=64, bias=False)\n",
       "                (bn): GBN(\n",
       "                  (bn): BatchNorm1d(64, eps=1e-05, momentum=0.02, affine=True, track_running_stats=True)\n",
       "                )\n",
       "              )\n",
       "            )\n",
       "          )\n",
       "          (specifics): GLU_Block(\n",
       "            (glu_layers): ModuleList(\n",
       "              (0-1): 2 x GLU_Layer(\n",
       "                (fc): Linear(in_features=32, out_features=64, bias=False)\n",
       "                (bn): GBN(\n",
       "                  (bn): BatchNorm1d(64, eps=1e-05, momentum=0.02, affine=True, track_running_stats=True)\n",
       "                )\n",
       "              )\n",
       "            )\n",
       "          )\n",
       "        )\n",
       "      )\n",
       "      (att_transformers): ModuleList(\n",
       "        (0-2): 3 x AttentiveTransformer(\n",
       "          (fc): Linear(in_features=16, out_features=20, bias=False)\n",
       "          (bn): GBN(\n",
       "            (bn): BatchNorm1d(20, eps=1e-05, momentum=0.02, affine=True, track_running_stats=True)\n",
       "          )\n",
       "          (selector): Sparsemax()\n",
       "        )\n",
       "      )\n",
       "    )\n",
       "    (final_mapping): Linear(in_features=16, out_features=2, bias=False)\n",
       "  )\n",
       ")"
      ]
     },
     "execution_count": 13,
     "metadata": {},
     "output_type": "execute_result"
    }
   ],
   "source": [
    "# Convert model to PyTorch format\n",
    "pytorch_model = tabnet_model.network\n",
    "pytorch_model.eval()"
   ]
  },
  {
   "cell_type": "code",
   "execution_count": 14,
   "metadata": {},
   "outputs": [
    {
     "name": "stderr",
     "output_type": "stream",
     "text": [
      "/opt/miniconda3/envs/mlenv/lib/python3.11/site-packages/pytorch_tabnet/tab_network.py:35: TracerWarning: Converting a tensor to a Python integer might cause the trace to be incorrect. We can't record the data flow of Python values, so this value will be treated as a constant in the future. This means that the trace might not generalize to other inputs!\n",
      "  chunks = x.chunk(int(np.ceil(x.shape[0] / self.virtual_batch_size)), 0)\n"
     ]
    },
    {
     "name": "stdout",
     "output_type": "stream",
     "text": [
      "TabNet model has been converted to ONNX format!\n"
     ]
    }
   ],
   "source": [
    "dummy_input = torch.randn(3141, 20).float()  # 3141 sample, 20 features\n",
    "\n",
    "# Export model to ONNX\n",
    "torch.onnx.export(\n",
    "    pytorch_model, dummy_input, \"tabnet.onnx\",\n",
    "    export_params=True,    # Store the trained parameters\n",
    "    opset_version=11,      # Use ONNX opset 11+\n",
    "    do_constant_folding=True,  # Optimize graph by folding constants\n",
    "    input_names=[\"input\"], output_names=[\"output\"]\n",
    ")\n",
    "\n",
    "print(\"TabNet model has been converted to ONNX format!\")"
   ]
  },
  {
   "cell_type": "code",
   "execution_count": 27,
   "metadata": {},
   "outputs": [
    {
     "name": "stdout",
     "output_type": "stream",
     "text": [
      "ONNX model predictions: [[ 3.3532372  -0.7668635 ]\n",
      " [ 2.6243238  -0.8884481 ]\n",
      " [ 0.9245977  -1.1461244 ]\n",
      " ...\n",
      " [ 1.3486643  -0.48778722]\n",
      " [ 0.7718145  -0.98826957]\n",
      " [ 0.88292843 -0.64041334]]\n"
     ]
    }
   ],
   "source": [
    "#Use onnx model to make predictions\n",
    "import onnxruntime as ort\n",
    "\n",
    "\n",
    "# Load the ONNX model\n",
    "onnx_model = ort.InferenceSession(\"tabnet.onnx\")\n",
    "\n",
    "# Get the input name for the ONNX model\n",
    "input_name = onnx_model.get_inputs()[0].name\n",
    "\n",
    "# Get the output name for the ONNX model\n",
    "output_name = onnx_model.get_outputs()[0].name\n",
    "\n",
    "# Convert the input data to ONNX format\n",
    "input_data = X_train.values\n",
    "\n",
    "# Make predictions using ONNX model\n",
    "predictions_onnx = onnx_model.run([output_name], {input_name: input_data.astype(np.float32)})[0]\n",
    "\n",
    "#show stats\n",
    "print(f\"ONNX model predictions: {predictions_onnx}\")"
   ]
  },
  {
   "cell_type": "code",
   "execution_count": null,
   "metadata": {},
   "outputs": [],
   "source": []
  }
 ],
 "metadata": {
  "kernelspec": {
   "display_name": "mlenv",
   "language": "python",
   "name": "python3"
  },
  "language_info": {
   "codemirror_mode": {
    "name": "ipython",
    "version": 3
   },
   "file_extension": ".py",
   "mimetype": "text/x-python",
   "name": "python",
   "nbconvert_exporter": "python",
   "pygments_lexer": "ipython3",
   "version": "3.11.8"
  }
 },
 "nbformat": 4,
 "nbformat_minor": 2
}
